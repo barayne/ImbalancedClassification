{
  "cells": [
    {
      "cell_type": "markdown",
      "metadata": {
        "id": "gPG-BgIJqYy-"
      },
      "source": [
        "# **Problem Statement**\n",
        "Beta Bank customers are leaving: little by little, chipping away every month. The bankers\n",
        "figured out it’s cheaper to save the existing customers rather than to attract new ones.\n",
        "We need to predict whether a customer will leave the bank soon. You have the data on\n",
        "clients’ past behavior and termination of contracts with the bank.\n",
        "Build a model with the maximum possible F1 score. To pass the project, you need an F1\n",
        "score of at least 0.59. Check the F1 for the test set.\n",
        "Additionally, measure the AUC-ROC metric and compare it with the F1.\n",
        "1. Download and prepare the data. Explain the procedure.\n",
        "2. Examine the balance of classes. Train the model without taking into account the\n",
        "imbalance. Briefly describe your findings.\n",
        "3. Improve the quality of the model. Make sure you use at least two approaches to\n",
        "fixing class imbalance. Use the training set to pick the best parameters. Train\n",
        "different models on training and validation sets. Find the best one. Briefly\n",
        "describe your findings.\n",
        "4. Perform the final testing.\n"
      ]
    },
    {
      "cell_type": "code",
      "execution_count": 1,
      "metadata": {
        "colab": {
          "base_uri": "https://localhost:8080/"
        },
        "id": "XN90P_WKrsp2",
        "outputId": "2f5fbaf7-900e-4867-c5e3-2896e9875db9"
      },
      "outputs": [
        {
          "name": "stdout",
          "output_type": "stream",
          "text": [
            "\u001b[33mDEPRECATION: Configuring installation scheme with distutils config files is deprecated and will no longer work in the near future. If you are using a Homebrew or Linuxbrew Python, please see discussion at https://github.com/Homebrew/homebrew-core/issues/76621\u001b[0m\u001b[33m\n",
            "\u001b[0mCollecting fsspec\n",
            "  Downloading fsspec-2022.8.1-py3-none-any.whl (140 kB)\n",
            "\u001b[2K     \u001b[90m━━━━━━━━━━━━━━━━━━━━━━━━━━━━━━━━━━━━━━\u001b[0m \u001b[32m140.8/140.8 kB\u001b[0m \u001b[31m68.5 kB/s\u001b[0m eta \u001b[36m0:00:00\u001b[0ma \u001b[36m0:00:01\u001b[0m\n",
            "\u001b[?25hInstalling collected packages: fsspec\n",
            "\u001b[33m  DEPRECATION: Configuring installation scheme with distutils config files is deprecated and will no longer work in the near future. If you are using a Homebrew or Linuxbrew Python, please see discussion at https://github.com/Homebrew/homebrew-core/issues/76621\u001b[0m\u001b[33m\n",
            "\u001b[0m\u001b[33mDEPRECATION: Configuring installation scheme with distutils config files is deprecated and will no longer work in the near future. If you are using a Homebrew or Linuxbrew Python, please see discussion at https://github.com/Homebrew/homebrew-core/issues/76621\u001b[0m\u001b[33m\n",
            "\u001b[0mSuccessfully installed fsspec-2022.8.1\n"
          ]
        }
      ],
      "source": [
        "!pip install fsspec"
      ]
    },
    {
      "cell_type": "code",
      "execution_count": 2,
      "metadata": {
        "id": "cwJMWFxgqTjX"
      },
      "outputs": [],
      "source": [
        "#import libraries\n",
        "import pandas as pd\n",
        "\n",
        "#load dataset\n",
        "df = pd.read_csv(\"https://bit.ly/2XZK7Bo\")"
      ]
    },
    {
      "cell_type": "markdown",
      "metadata": {
        "id": "L74lyRfHrNO8"
      },
      "source": [
        "# **Data preprocessing and analysis**"
      ]
    },
    {
      "cell_type": "code",
      "execution_count": 3,
      "metadata": {
        "colab": {
          "base_uri": "https://localhost:8080/",
          "height": 206
        },
        "id": "CsDYxz7tq97G",
        "outputId": "e0d08f8c-8163-4e74-b016-cb9cfd211759"
      },
      "outputs": [
        {
          "data": {
            "text/html": [
              "<div>\n",
              "<style scoped>\n",
              "    .dataframe tbody tr th:only-of-type {\n",
              "        vertical-align: middle;\n",
              "    }\n",
              "\n",
              "    .dataframe tbody tr th {\n",
              "        vertical-align: top;\n",
              "    }\n",
              "\n",
              "    .dataframe thead th {\n",
              "        text-align: right;\n",
              "    }\n",
              "</style>\n",
              "<table border=\"1\" class=\"dataframe\">\n",
              "  <thead>\n",
              "    <tr style=\"text-align: right;\">\n",
              "      <th></th>\n",
              "      <th>RowNumber</th>\n",
              "      <th>CustomerId</th>\n",
              "      <th>Surname</th>\n",
              "      <th>CreditScore</th>\n",
              "      <th>Geography</th>\n",
              "      <th>Gender</th>\n",
              "      <th>Age</th>\n",
              "      <th>Tenure</th>\n",
              "      <th>Balance</th>\n",
              "      <th>NumOfProducts</th>\n",
              "      <th>HasCrCard</th>\n",
              "      <th>IsActiveMember</th>\n",
              "      <th>EstimatedSalary</th>\n",
              "      <th>Exited</th>\n",
              "    </tr>\n",
              "  </thead>\n",
              "  <tbody>\n",
              "    <tr>\n",
              "      <th>3218</th>\n",
              "      <td>3219</td>\n",
              "      <td>15774872</td>\n",
              "      <td>Joslin</td>\n",
              "      <td>663</td>\n",
              "      <td>France</td>\n",
              "      <td>Male</td>\n",
              "      <td>36</td>\n",
              "      <td>10.0</td>\n",
              "      <td>0.00</td>\n",
              "      <td>2</td>\n",
              "      <td>1</td>\n",
              "      <td>0</td>\n",
              "      <td>136349.55</td>\n",
              "      <td>0</td>\n",
              "    </tr>\n",
              "    <tr>\n",
              "      <th>6670</th>\n",
              "      <td>6671</td>\n",
              "      <td>15667932</td>\n",
              "      <td>Bellucci</td>\n",
              "      <td>758</td>\n",
              "      <td>Spain</td>\n",
              "      <td>Female</td>\n",
              "      <td>43</td>\n",
              "      <td>10.0</td>\n",
              "      <td>0.00</td>\n",
              "      <td>2</td>\n",
              "      <td>1</td>\n",
              "      <td>1</td>\n",
              "      <td>55313.44</td>\n",
              "      <td>0</td>\n",
              "    </tr>\n",
              "    <tr>\n",
              "      <th>470</th>\n",
              "      <td>471</td>\n",
              "      <td>15759298</td>\n",
              "      <td>Shih</td>\n",
              "      <td>631</td>\n",
              "      <td>Spain</td>\n",
              "      <td>Male</td>\n",
              "      <td>27</td>\n",
              "      <td>10.0</td>\n",
              "      <td>134169.62</td>\n",
              "      <td>1</td>\n",
              "      <td>1</td>\n",
              "      <td>1</td>\n",
              "      <td>176730.02</td>\n",
              "      <td>0</td>\n",
              "    </tr>\n",
              "    <tr>\n",
              "      <th>9409</th>\n",
              "      <td>9410</td>\n",
              "      <td>15591150</td>\n",
              "      <td>Nwebube</td>\n",
              "      <td>570</td>\n",
              "      <td>Spain</td>\n",
              "      <td>Male</td>\n",
              "      <td>34</td>\n",
              "      <td>10.0</td>\n",
              "      <td>0.00</td>\n",
              "      <td>2</td>\n",
              "      <td>0</td>\n",
              "      <td>1</td>\n",
              "      <td>183387.12</td>\n",
              "      <td>0</td>\n",
              "    </tr>\n",
              "    <tr>\n",
              "      <th>6654</th>\n",
              "      <td>6655</td>\n",
              "      <td>15799998</td>\n",
              "      <td>Cunningham</td>\n",
              "      <td>608</td>\n",
              "      <td>France</td>\n",
              "      <td>Female</td>\n",
              "      <td>30</td>\n",
              "      <td>NaN</td>\n",
              "      <td>85859.76</td>\n",
              "      <td>1</td>\n",
              "      <td>0</td>\n",
              "      <td>0</td>\n",
              "      <td>142730.27</td>\n",
              "      <td>0</td>\n",
              "    </tr>\n",
              "  </tbody>\n",
              "</table>\n",
              "</div>"
            ],
            "text/plain": [
              "      RowNumber  CustomerId     Surname  CreditScore Geography  Gender  Age  \\\n",
              "3218       3219    15774872      Joslin          663    France    Male   36   \n",
              "6670       6671    15667932    Bellucci          758     Spain  Female   43   \n",
              "470         471    15759298        Shih          631     Spain    Male   27   \n",
              "9409       9410    15591150     Nwebube          570     Spain    Male   34   \n",
              "6654       6655    15799998  Cunningham          608    France  Female   30   \n",
              "\n",
              "      Tenure    Balance  NumOfProducts  HasCrCard  IsActiveMember  \\\n",
              "3218    10.0       0.00              2          1               0   \n",
              "6670    10.0       0.00              2          1               1   \n",
              "470     10.0  134169.62              1          1               1   \n",
              "9409    10.0       0.00              2          0               1   \n",
              "6654     NaN   85859.76              1          0               0   \n",
              "\n",
              "      EstimatedSalary  Exited  \n",
              "3218        136349.55       0  \n",
              "6670         55313.44       0  \n",
              "470         176730.02       0  \n",
              "9409        183387.12       0  \n",
              "6654        142730.27       0  "
            ]
          },
          "execution_count": 3,
          "metadata": {},
          "output_type": "execute_result"
        }
      ],
      "source": [
        "df.sample(5)"
      ]
    },
    {
      "cell_type": "code",
      "execution_count": 4,
      "metadata": {
        "colab": {
          "base_uri": "https://localhost:8080/"
        },
        "id": "yuXgfGYNxzsp",
        "outputId": "44c5f43e-9a00-4162-d1b9-185fd5ef35a7"
      },
      "outputs": [
        {
          "data": {
            "text/plain": [
              "(10000, 14)"
            ]
          },
          "execution_count": 4,
          "metadata": {},
          "output_type": "execute_result"
        }
      ],
      "source": [
        "#size of the dataset\n",
        "df.shape"
      ]
    },
    {
      "cell_type": "code",
      "execution_count": 5,
      "metadata": {
        "colab": {
          "base_uri": "https://localhost:8080/"
        },
        "id": "OKnOkri1uKmT",
        "outputId": "216ceb9c-647d-45a3-a790-5179ff24bc30"
      },
      "outputs": [
        {
          "data": {
            "text/plain": [
              "RowNumber            0\n",
              "CustomerId           0\n",
              "Surname              0\n",
              "CreditScore          0\n",
              "Geography            0\n",
              "Gender               0\n",
              "Age                  0\n",
              "Tenure             909\n",
              "Balance              0\n",
              "NumOfProducts        0\n",
              "HasCrCard            0\n",
              "IsActiveMember       0\n",
              "EstimatedSalary      0\n",
              "Exited               0\n",
              "dtype: int64"
            ]
          },
          "execution_count": 5,
          "metadata": {},
          "output_type": "execute_result"
        }
      ],
      "source": [
        "#find missing values in the columns\n",
        "df.isnull().sum()"
      ]
    },
    {
      "cell_type": "code",
      "execution_count": 6,
      "metadata": {
        "colab": {
          "base_uri": "https://localhost:8080/"
        },
        "id": "ZlJ9vCjCuub9",
        "outputId": "a9f2fb64-febd-4247-8a81-9e5da34ab42d"
      },
      "outputs": [
        {
          "data": {
            "text/plain": [
              "0"
            ]
          },
          "execution_count": 6,
          "metadata": {},
          "output_type": "execute_result"
        }
      ],
      "source": [
        "#fill missing values\n",
        "\n",
        "#find unique values in Tenure column\n",
        "df['Tenure'].unique()\n",
        "\n",
        "#fill missing values with median\n",
        "df['Tenure'] = df['Tenure'].fillna(df['Tenure'].median())\n",
        "\n",
        "#check missing values\n",
        "df['Tenure'].isnull().sum()"
      ]
    },
    {
      "cell_type": "code",
      "execution_count": 7,
      "metadata": {
        "colab": {
          "base_uri": "https://localhost:8080/"
        },
        "id": "5Z23c4Z4udXG",
        "outputId": "3670e895-8867-4957-a527-5d6d688ebcda"
      },
      "outputs": [
        {
          "data": {
            "text/plain": [
              "0"
            ]
          },
          "execution_count": 7,
          "metadata": {},
          "output_type": "execute_result"
        }
      ],
      "source": [
        "#check for duplicates\n",
        "df.duplicated().sum()"
      ]
    },
    {
      "cell_type": "code",
      "execution_count": 8,
      "metadata": {
        "colab": {
          "base_uri": "https://localhost:8080/"
        },
        "id": "zRdJYyPnCdG3",
        "outputId": "5050985d-005c-4648-9c89-8a1a481f1379"
      },
      "outputs": [
        {
          "data": {
            "text/plain": [
              "RowNumber            int64\n",
              "CustomerId           int64\n",
              "Surname             object\n",
              "CreditScore          int64\n",
              "Geography           object\n",
              "Gender              object\n",
              "Age                  int64\n",
              "Tenure             float64\n",
              "Balance            float64\n",
              "NumOfProducts        int64\n",
              "HasCrCard            int64\n",
              "IsActiveMember       int64\n",
              "EstimatedSalary    float64\n",
              "Exited               int64\n",
              "dtype: object"
            ]
          },
          "execution_count": 8,
          "metadata": {},
          "output_type": "execute_result"
        }
      ],
      "source": [
        "#find datatypes in the columns\n",
        "df.dtypes"
      ]
    },
    {
      "cell_type": "code",
      "execution_count": 9,
      "metadata": {
        "id": "d_wSpmWeDzzQ"
      },
      "outputs": [],
      "source": [
        "#drop some columns\n",
        "df = df.drop([\"Surname\",\"RowNumber\", \"CustomerId\"], axis=1)"
      ]
    },
    {
      "cell_type": "code",
      "execution_count": 10,
      "metadata": {
        "id": "bXgrjLpXJlFX"
      },
      "outputs": [],
      "source": [
        "#encoding the string values in the dataset\n",
        "df = pd.get_dummies(df, columns=['Gender', 'Geography'])"
      ]
    },
    {
      "cell_type": "code",
      "execution_count": 11,
      "metadata": {
        "colab": {
          "base_uri": "https://localhost:8080/"
        },
        "id": "77vA3qYwvL7b",
        "outputId": "9d573f5e-163c-4a43-d03c-05840e942ca7"
      },
      "outputs": [
        {
          "data": {
            "text/plain": [
              "array([1, 0])"
            ]
          },
          "execution_count": 11,
          "metadata": {},
          "output_type": "execute_result"
        }
      ],
      "source": [
        "df['Exited'].unique()"
      ]
    },
    {
      "cell_type": "markdown",
      "metadata": {
        "id": "5yU4GkhxAoyR"
      },
      "source": [
        "# **Model Training and Evaluation**"
      ]
    },
    {
      "cell_type": "code",
      "execution_count": 12,
      "metadata": {
        "id": "Vr-ln7kihwWV"
      },
      "outputs": [],
      "source": [
        "#Splitting Dataset\n",
        "\n",
        "#import libraries\n",
        "from sklearn.model_selection import train_test_split\n",
        "from sklearn.preprocessing import StandardScaler\n",
        "from sklearn.metrics import f1_score\n",
        "\n",
        "target = df['Exited']\n",
        "features = df.drop('Exited', axis=1)\n",
        "#split dataset\n",
        "features_train, features_valid, target_train, target_valid = train_test_split(\n",
        "    features, target, test_size=0.25, random_state=12345\n",
        ")\n",
        "\n",
        "\n",
        "#feature scaling\n",
        "scaler = StandardScaler()\n",
        "scaler.fit(features_train)\n",
        "features_train = scaler.transform(features_train)\n",
        "features_valid = scaler.transform(features_valid)\n"
      ]
    },
    {
      "cell_type": "markdown",
      "metadata": {
        "id": "GEm45_nTOjKs"
      },
      "source": [
        "### **Decision Tree Classifier**\n",
        "\n",
        "\n"
      ]
    },
    {
      "cell_type": "code",
      "execution_count": 13,
      "metadata": {
        "colab": {
          "base_uri": "https://localhost:8080/"
        },
        "id": "Wh68K8sPyhtm",
        "outputId": "e54e7d9d-85fb-4bc7-928b-9b042433ceee"
      },
      "outputs": [
        {
          "name": "stdout",
          "output_type": "stream",
          "text": [
            "0.5287846481876333\n"
          ]
        }
      ],
      "source": [
        "from sklearn.tree import DecisionTreeClassifier\n",
        "\n",
        "model = DecisionTreeClassifier(random_state=12345, max_depth = 2)\n",
        "model.fit(features_train, target_train)\n",
        "predicted_valid = model.predict(features_valid)\n",
        "\n",
        "print(f1_score(target_valid, predicted_valid))"
      ]
    },
    {
      "cell_type": "code",
      "execution_count": 14,
      "metadata": {
        "colab": {
          "base_uri": "https://localhost:8080/"
        },
        "id": "eqkIrJ8vy1Os",
        "outputId": "743b193c-bc7b-4618-ac15-a550f105c5a2"
      },
      "outputs": [
        {
          "name": "stdout",
          "output_type": "stream",
          "text": [
            "0.29247910863509746\n"
          ]
        }
      ],
      "source": [
        "from sklearn.linear_model import LogisticRegression\n",
        "\n",
        "lr_model = LogisticRegression(random_state=12345, solver ='liblinear')\n",
        "lr_model.fit(features_train, target_train)\n",
        "predicted_valid = lr_model.predict(features_valid)\n",
        "\n",
        "print(f1_score(target_valid, predicted_valid))"
      ]
    },
    {
      "cell_type": "code",
      "execution_count": 15,
      "metadata": {
        "colab": {
          "base_uri": "https://localhost:8080/"
        },
        "id": "sfzoZqYnTsEQ",
        "outputId": "3c8641c9-d25f-4e45-e11e-a539d2e759dc"
      },
      "outputs": [
        {
          "name": "stdout",
          "output_type": "stream",
          "text": [
            "0.5810968494749125\n"
          ]
        }
      ],
      "source": [
        "from sklearn.ensemble import RandomForestClassifier\n",
        "\n",
        "rf_model = RandomForestClassifier(random_state=12345, n_estimators=50)\n",
        "rf_model.fit(features_train, target_train)\n",
        "predicted_valid = rf_model.predict(features_valid)\n",
        "\n",
        "print(f1_score(target_valid, predicted_valid))\n"
      ]
    },
    {
      "cell_type": "markdown",
      "metadata": {
        "id": "PIwDaFS0irIU"
      },
      "source": [
        "# **Class Balance Adjustments**"
      ]
    },
    {
      "cell_type": "code",
      "execution_count": 16,
      "metadata": {
        "colab": {
          "base_uri": "https://localhost:8080/"
        },
        "id": "HKwJOt7OdOkp",
        "outputId": "9aebf31f-f6df-4928-b313-d572bc077e74"
      },
      "outputs": [
        {
          "data": {
            "text/plain": [
              "0    0.7963\n",
              "1    0.2037\n",
              "Name: Exited, dtype: float64"
            ]
          },
          "execution_count": 16,
          "metadata": {},
          "output_type": "execute_result"
        }
      ],
      "source": [
        "#check balance of target class\n",
        "df['Exited'].value_counts(normalize=True)"
      ]
    },
    {
      "cell_type": "code",
      "execution_count": 17,
      "metadata": {
        "colab": {
          "base_uri": "https://localhost:8080/"
        },
        "id": "p89BmCOChNWE",
        "outputId": "67f4971b-cd3b-4380-84e8-ae5b3947fdac"
      },
      "outputs": [
        {
          "name": "stdout",
          "output_type": "stream",
          "text": [
            "0.5508982035928144\n"
          ]
        }
      ],
      "source": [
        "#balanced random forest model\n",
        "rf_model_balanced = RandomForestClassifier(random_state=12345, n_estimators=50, class_weight='balanced')\n",
        "rf_model_balanced.fit(features_train, target_train)\n",
        "predicted_valid = rf_model_balanced.predict(features_valid)\n",
        "\n",
        "print(f1_score(target_valid, predicted_valid))\n"
      ]
    },
    {
      "cell_type": "code",
      "execution_count": 18,
      "metadata": {
        "colab": {
          "base_uri": "https://localhost:8080/"
        },
        "id": "NM22gkGCiDPi",
        "outputId": "4a903095-a6c7-4c5d-fc07-a54ad0eb2d03"
      },
      "outputs": [
        {
          "name": "stdout",
          "output_type": "stream",
          "text": [
            "0.5391566265060241\n"
          ]
        }
      ],
      "source": [
        "#balanced Decision Tree\n",
        "balanced_model = DecisionTreeClassifier(random_state=12345, max_depth = 2, class_weight='balanced')\n",
        "balanced_model.fit(features_train, target_train)\n",
        "predicted_valid = balanced_model.predict(features_valid)\n",
        "\n",
        "print(f1_score(target_valid, predicted_valid))"
      ]
    }
  ],
  "metadata": {
    "colab": {
      "name": "Imbalanced Classification.ipynb",
      "provenance": []
    },
    "kernelspec": {
      "display_name": "Python 3.9.13 64-bit",
      "language": "python",
      "name": "python3"
    },
    "language_info": {
      "codemirror_mode": {
        "name": "ipython",
        "version": 3
      },
      "file_extension": ".py",
      "mimetype": "text/x-python",
      "name": "python",
      "nbconvert_exporter": "python",
      "pygments_lexer": "ipython3",
      "version": "3.9.13"
    },
    "vscode": {
      "interpreter": {
        "hash": "aee8b7b246df8f9039afb4144a1f6fd8d2ca17a180786b69acc140d282b71a49"
      }
    }
  },
  "nbformat": 4,
  "nbformat_minor": 0
}
